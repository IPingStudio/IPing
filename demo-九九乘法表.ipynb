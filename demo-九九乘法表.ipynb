{
 "cells": [
  {
   "cell_type": "markdown",
   "metadata": {},
   "source": [
    "# 打印九九乘法表\n",
    "- for循环分别执行每行的操作\n",
    "- 封装每一行执行程序为一个函数，方便调用\n",
    "- 正序、倒叙 左右对齐"
   ]
  },
  {
   "cell_type": "code",
   "execution_count": 34,
   "metadata": {},
   "outputs": [
    {
     "name": "stdout",
     "output_type": "stream",
     "text": [
      "1 * 1 = 1    \n",
      "1 * 2 = 2    2 * 2 = 4    \n",
      "1 * 3 = 3    2 * 3 = 6    3 * 3 = 9    \n",
      "1 * 4 = 4    2 * 4 = 8    3 * 4 = 12    4 * 4 = 16    \n",
      "1 * 5 = 5    2 * 5 = 10   3 * 5 = 15    4 * 5 = 20    5 * 5 = 25    \n",
      "1 * 6 = 6    2 * 6 = 12   3 * 6 = 18    4 * 6 = 24    5 * 6 = 30    6 * 6 = 36    \n",
      "1 * 7 = 7    2 * 7 = 14   3 * 7 = 21    4 * 7 = 28    5 * 7 = 35    6 * 7 = 42    7 * 7 = 49    \n",
      "1 * 8 = 8    2 * 8 = 16   3 * 8 = 24    4 * 8 = 32    5 * 8 = 40    6 * 8 = 48    7 * 8 = 56    8 * 8 = 64    \n",
      "1 * 9 = 9    2 * 9 = 18   3 * 9 = 27    4 * 9 = 36    5 * 9 = 45    6 * 9 = 54    7 * 9 = 63    8 * 9 = 72    9 * 9 = 81    \n"
     ]
    }
   ],
   "source": [
    "# index：行代码 1=9\n",
    "def PrintRow(index):\n",
    "    printStr = \"\"\n",
    "    spaceStr = \"    \"\n",
    "    for i in range(1, index + 1):\n",
    "        # 对齐列数，控制填充空格数量\n",
    "        if i * index >= 10 and i == 2:\n",
    "            spaceStr = \"   \"\n",
    "        else:\n",
    "            spaceStr = \"    \"\n",
    "        printStr += str(i) + \" * \" + str(index) + \" = \" + str(i * index) + spaceStr\n",
    "    return printStr\n",
    "\n",
    "for i in range(1, 10):\n",
    "    returnStr = PrintRow(i)\n",
    "    print(returnStr)\n",
    "    "
   ]
  },
  {
   "cell_type": "code",
   "execution_count": 38,
   "metadata": {},
   "outputs": [
    {
     "name": "stdout",
     "output_type": "stream",
     "text": [
      "1 * 9 = 9    2 * 9 = 18   3 * 9 = 27    4 * 9 = 36    5 * 9 = 45    6 * 9 = 54    7 * 9 = 63    8 * 9 = 72    9 * 9 = 81    \n",
      "1 * 8 = 8    2 * 8 = 16   3 * 8 = 24    4 * 8 = 32    5 * 8 = 40    6 * 8 = 48    7 * 8 = 56    8 * 8 = 64    \n",
      "1 * 7 = 7    2 * 7 = 14   3 * 7 = 21    4 * 7 = 28    5 * 7 = 35    6 * 7 = 42    7 * 7 = 49    \n",
      "1 * 6 = 6    2 * 6 = 12   3 * 6 = 18    4 * 6 = 24    5 * 6 = 30    6 * 6 = 36    \n",
      "1 * 5 = 5    2 * 5 = 10   3 * 5 = 15    4 * 5 = 20    5 * 5 = 25    \n",
      "1 * 4 = 4    2 * 4 = 8    3 * 4 = 12    4 * 4 = 16    \n",
      "1 * 3 = 3    2 * 3 = 6    3 * 3 = 9    \n",
      "1 * 2 = 2    2 * 2 = 4    \n",
      "1 * 1 = 1    \n"
     ]
    }
   ],
   "source": [
    "# 倒叙打印九九乘法表\n",
    "for i in range(9, 0, -1):\n",
    "    returnStr = PrintRow(i)\n",
    "    print(returnStr)"
   ]
  },
  {
   "cell_type": "code",
   "execution_count": null,
   "metadata": {},
   "outputs": [],
   "source": [
    "# 左对齐显示处理\n",
    "def PrintRow_right(index):\n",
    "    printStr = \"\"\n",
    "    spaceStr = \"    \"\n",
    "    for i in range(1, index + 1):\n",
    "        # 对齐列数，控制填充空格数量\n",
    "        if i * index >= 10 and i == 2:\n",
    "            spaceStr = \"   \"\n",
    "        else:\n",
    "            spaceStr = \"    \"\n",
    "        printStr += str(i) + \" * \" + str(index) + \" = \" + str(i * index) + spaceStr\n",
    "    return printStr"
   ]
  }
 ],
 "metadata": {
  "kernelspec": {
   "display_name": "Python 3",
   "language": "python",
   "name": "python3"
  },
  "language_info": {
   "codemirror_mode": {
    "name": "ipython",
    "version": 3
   },
   "file_extension": ".py",
   "mimetype": "text/x-python",
   "name": "python",
   "nbconvert_exporter": "python",
   "pygments_lexer": "ipython3",
   "version": "3.6.5"
  }
 },
 "nbformat": 4,
 "nbformat_minor": 2
}
